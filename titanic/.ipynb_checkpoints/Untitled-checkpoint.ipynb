{
 "cells": [
  {
   "cell_type": "code",
   "execution_count": 1,
   "metadata": {
    "collapsed": true
   },
   "outputs": [],
   "source": [
    "import tensorflow as tf"
   ]
  },
  {
   "cell_type": "code",
   "execution_count": 4,
   "metadata": {
    "collapsed": false
   },
   "outputs": [],
   "source": [
    "def create_file_reader_ops(name_queue):\n",
    "    reader = tf.TextLineReader(skip_header_lines = 1)\n",
    "    _, csv_row = reader.read(name_queue)\n",
    "    record_defaults = [[-1], [-1], [-1], [\"\"], [\"\"], [0.0], [0], [0], [\"\"], [0.0], [\"\"], [\"\"]]\n",
    "    p_id, survived, p_class, _, sex, age, sibs_sp, par_ch, _, _, _, _ = tf.decode_csv(csv_row, record_defaults=record_defaults)\n",
    "    \n",
    "    age = tf.to_int32(age)\n",
    "    \n",
    "    features = tf.pack([p_class, age, sibs_sp, par_ch, survived])\n",
    "    return features, p_id"
   ]
  },
  {
   "cell_type": "code",
   "execution_count": 5,
   "metadata": {
    "collapsed": false
   },
   "outputs": [],
   "source": [
    "name_queue = tf.train.string_input_producer([\"train.csv\"], num_epochs=1, shuffle=False)\n",
    "features, p_id = create_file_reader_ops(name_queue)"
   ]
  },
  {
   "cell_type": "code",
   "execution_count": 6,
   "metadata": {
    "collapsed": false
   },
   "outputs": [],
   "source": [
    "with tf.Session() as sess:\n",
    "    tf.initialize_all_variables().run()\n",
    "    coord = tf.train.Coordinator()\n",
    "    threads = tf.train.start_queue_runners(coord=coord)\n",
    "    \n",
    "    while True:\n",
    "        try:\n",
    "            a_point, an_id = sess.run([features, p_id])\n",
    "            print (a_point, an_id)\n",
    "        except tf.errors.OutOfRangeError:\n",
    "            break"
   ]
  },
  {
   "cell_type": "code",
   "execution_count": null,
   "metadata": {
    "collapsed": true
   },
   "outputs": [],
   "source": []
  }
 ],
 "metadata": {
  "kernelspec": {
   "display_name": "Python 2",
   "language": "python",
   "name": "python2"
  },
  "language_info": {
   "codemirror_mode": {
    "name": "ipython",
    "version": 2
   },
   "file_extension": ".py",
   "mimetype": "text/x-python",
   "name": "python",
   "nbconvert_exporter": "python",
   "pygments_lexer": "ipython2",
   "version": "2.7.12"
  }
 },
 "nbformat": 4,
 "nbformat_minor": 2
}
